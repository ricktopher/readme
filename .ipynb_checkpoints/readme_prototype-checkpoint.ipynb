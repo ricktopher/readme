{
 "cells": [
  {
   "cell_type": "markdown",
   "metadata": {},
   "source": [
    "Much appreciation two these two authors, without whom this script would have undoubtedly taken more time than my patience could handle.\n",
    "\n",
    "https://www.bogotobogo.com/python/python_traversing_directory_tree_recursively_os_walk.php\n",
    "\n",
    "https://kubanaltan.wordpress.com/2011/01/21/os-walk-alphabetically-directory-recursion/"
   ]
  },
  {
   "cell_type": "code",
   "execution_count": 1,
   "metadata": {},
   "outputs": [],
   "source": [
    "import os"
   ]
  },
  {
   "cell_type": "code",
   "execution_count": 2,
   "metadata": {},
   "outputs": [],
   "source": [
    "directory = 'Directory'"
   ]
  },
  {
   "cell_type": "code",
   "execution_count": 3,
   "metadata": {},
   "outputs": [
    {
     "name": "stdout",
     "output_type": "stream",
     "text": [
      "| --- [ Directory ]\n",
      "| --- text2.txt\n",
      "| --- text3.txt\n",
      "| --- text1.txt\n",
      "| --- README.txt\n",
      "| ------ [ Subdir4_EmptySubdirs ]\n",
      "| --------- [ SubSubdir1 ]\n",
      "| --------- [ SubSubdir3 ]\n",
      "| --------- [ SubSubdir2 ]\n",
      "| ------ [ Subdir1_Empty ]\n",
      "| ------ [ Subdir3_ReadmeNoText ]\n",
      "| ------ README.txt\n",
      "| ------ [ Subdir2_TextNoReadme ]\n",
      "| ------ text2.txt\n",
      "| ------ text3.txt\n",
      "| ------ text1.txt\n",
      "| ------ [ Subdir5_EmptySubdirsReadme ]\n",
      "| ------ README.txt\n",
      "| --------- [ SubSubdir1 ]\n",
      "| --------- [ SubSubdir3 ]\n",
      "| --------- [ SubSubdir2 ]\n"
     ]
    }
   ],
   "source": [
    "for dirpath, dirs, files in os.walk(directory):\n",
    "    path = dirpath.split('/')\n",
    "    print('|', (len(path))*'---', '[',os.path.basename(dirpath),']')\n",
    "    for f in files:\n",
    "        print('|', len(path)*'---', f)"
   ]
  },
  {
   "cell_type": "code",
   "execution_count": 4,
   "metadata": {},
   "outputs": [],
   "source": [
    "\n",
    "def readme(directory):\n",
    "\tfor dirpath, dirs, files in os.walk(directory):\n",
    "\t    path = dirpath.split('/')\n",
    "\t\n",
    "\t    print((len(path))*'   ' + '. ' + os.path.basename(dirpath))\n",
    "\t    \n",
    "\t    for f in files:\n",
    "\t\n",
    "\t        if f == 'README.txt':\n",
    "\t            readme = os.path.join(dirpath, f)\n",
    "\t            with open(readme, 'r') as file:\n",
    "\t                lines = file.readlines()\n",
    "\t\n",
    "\t                print(' ' + len(path)*'  ' + '# ' + lines[0].strip() + ' #')\n",
    "\t        \n",
    "\t        print(len(path)*'   ' + '   . ' + f) "
   ]
  },
  {
   "cell_type": "code",
   "execution_count": 5,
   "metadata": {},
   "outputs": [
    {
     "name": "stdout",
     "output_type": "stream",
     "text": [
      "   . Directory\n",
      "      . text2.txt\n",
      "      . text3.txt\n",
      "      . text1.txt\n",
      "   # Test directory to test the raedme program #\n",
      "      . README.txt\n",
      "      . Subdir4_EmptySubdirs\n",
      "         . SubSubdir1\n",
      "         . SubSubdir3\n",
      "         . SubSubdir2\n",
      "      . Subdir1_Empty\n",
      "      . Subdir3_ReadmeNoText\n",
      "     # Subdir3 _ReadmeNoText readme file content. #\n",
      "         . README.txt\n",
      "      . Subdir2_TextNoReadme\n",
      "         . text2.txt\n",
      "         . text3.txt\n",
      "         . text1.txt\n",
      "      . Subdir5_EmptySubdirsReadme\n",
      "     # Subdir5_EmptySubdirsReadme readme file content. #\n",
      "         . README.txt\n",
      "         . SubSubdir1\n",
      "         . SubSubdir3\n",
      "         . SubSubdir2\n"
     ]
    }
   ],
   "source": [
    "readme(directory)"
   ]
  },
  {
   "cell_type": "code",
   "execution_count": 6,
   "metadata": {},
   "outputs": [],
   "source": [
    "# find a way to colorize the directories\n",
    "# option to colorize a readme file\n",
    "\n",
    "# option to show a shortened view\n",
    "    # if you have more than 5 filer, write number of files instead of all the file names.\n",
    "    \n",
    "# option to view without readme\n",
    "# option to create readme files inside each directory that does not have a readme file.\n",
    "\n",
    "#### Waaaay in the future.\n",
    "     # option to modify the readmes from the commandline display."
   ]
  },
  {
   "cell_type": "code",
   "execution_count": 19,
   "metadata": {},
   "outputs": [
    {
     "name": "stdout",
     "output_type": "stream",
     "text": [
      "   . Directory    # Test directory to test the raedme program #\n",
      "      . README.txt\n",
      "      . text1.txt\n",
      "      . text2.txt\n",
      "      . text3.txt\n",
      "      . Subdir1_Empty      # Empty README file #\n",
      "         . README.txt\n",
      "      . Subdir2_TextNoReadme      # Empty README file #\n",
      "         . README.txt\n",
      "         . text1.txt\n",
      "         . text2.txt\n",
      "         . text3.txt\n",
      "      . Subdir3_ReadmeNoText      # Subdir3 _ReadmeNoText readme file content. #\n",
      "         . README.txt\n",
      "      . Subdir4_EmptySubdirs      # Empty README file #\n",
      "         . README.txt\n",
      "         . SubSubdir1        # Empty README file #\n",
      "            . README.txt\n",
      "         . SubSubdir2        # Empty README file #\n",
      "            . README.txt\n",
      "         . SubSubdir3        # Empty README file #\n",
      "            . README.txt\n",
      "      . Subdir5_EmptySubdirsReadme      # Subdir5_EmptySubdirsReadme readme file content. #\n",
      "         . README.txt\n",
      "         . SubSubdir1        # Empty README file #\n",
      "            . README.txt\n",
      "         . SubSubdir2        # Empty README file #\n",
      "            . README.txt\n",
      "         . SubSubdir3        # Empty README file #\n",
      "            . README.txt\n"
     ]
    }
   ],
   "source": [
    "def sortedWalk(top, topdown=True, onerror=None):\n",
    "    from os.path import join, isdir, islink\n",
    " \n",
    "    names = os.listdir(top)\n",
    "    names.sort()\n",
    "    dirs, nondirs = [], []\n",
    " \n",
    "    for name in names:\n",
    "        if isdir(os.path.join(top, name)):\n",
    "            dirs.append(name)\n",
    "        else:\n",
    "            nondirs.append(name)\n",
    " \n",
    "    if topdown:\n",
    "        yield top, dirs, nondirs\n",
    "    for name in dirs:\n",
    "        path = join(top, name)\n",
    "        if not os.path.islink(path):\n",
    "            for x in sortedWalk(path, topdown, onerror):\n",
    "                yield x\n",
    "    if not topdown:\n",
    "        yield top, dirs, nondirs\n",
    "\n",
    "create_readme_flag = True\n",
    "        \n",
    "def readme(directory):\n",
    "    for dirpath, dirs, files in sortedWalk(directory):\n",
    "        path = dirpath.split('/')\n",
    "        readmeText = ''\n",
    "        \n",
    "        for f in files:\n",
    "            if f == 'README.txt':\n",
    "                readme = os.path.join(dirpath, f)\n",
    "        \n",
    "                with open(readme, 'r') as file:\n",
    "                    lines = file.readlines()\n",
    "                    readmeText = (' ' + len(path)*'  ' + '# ' + lines[0].strip() + ' #')\n",
    "              \n",
    "        print((len(path))*'   ' + '. ' + os.path.basename(dirpath), readmeText)\n",
    "                    \n",
    "        if create_readme_flag:\n",
    "            if not('README.txt' in files):\n",
    "                readmeFilePath = os.path.join(dirpath, 'README.txt' )\n",
    "                \n",
    "                with open(readmeFilePath, 'a+') as file:\n",
    "                    file.write('Empty README file')\n",
    "                \n",
    "        for f in files:\n",
    "            print(len(path)*'   ' + '   . ' + f) \n",
    "\n",
    "readme(directory)"
   ]
  },
  {
   "cell_type": "code",
   "execution_count": null,
   "metadata": {},
   "outputs": [],
   "source": []
  }
 ],
 "metadata": {
  "kernelspec": {
   "display_name": "Python 3",
   "language": "python",
   "name": "python3"
  },
  "language_info": {
   "codemirror_mode": {
    "name": "ipython",
    "version": 3
   },
   "file_extension": ".py",
   "mimetype": "text/x-python",
   "name": "python",
   "nbconvert_exporter": "python",
   "pygments_lexer": "ipython3",
   "version": "3.8.2"
  }
 },
 "nbformat": 4,
 "nbformat_minor": 4
}
